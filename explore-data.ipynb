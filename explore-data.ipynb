%load_ext autoreload
%autoreload 2

from IPython.core.interactiveshell import InteractiveShell
InteractiveShell.ast_node_interactivity = "all"
import pandas as pd

df_orig = pd.read_csv("../data/bbc-news-data.csv", delimiter='\t')
df = df_orig.copy()
df
df.describe()
for col in ['category', 'filename']:
    print(df[col].unique())

df[['category', 'filename']]
#create bar plot to visualize frequency of each team
df['category'].value_counts().plot(kind='bar', xlabel='Category', ylabel='Articles Count', rot=0, title='Number of articles per category')
df["word_count"] = df["content"].apply(lambda n: len(n.split()))
df
import seaborn as sns

sns.set_style("whitegrid")
sns.catplot(data=df, x="category", y="word_count", kind="box", height=5)
